{
  "nbformat": 4,
  "nbformat_minor": 0,
  "metadata": {
    "colab": {
      "provenance": []
    },
    "kernelspec": {
      "name": "python3",
      "display_name": "Python 3"
    },
    "language_info": {
      "name": "python"
    }
  },
  "cells": [
    {
      "cell_type": "markdown",
      "source": [
        "Data Science Tools and Ecosystem"
      ],
      "metadata": {
        "id": "4E7A-aHxIcvJ"
      }
    },
    {
      "cell_type": "markdown",
      "source": [
        "In this notebook, Data Science Tools and Ecosystem are summarized."
      ],
      "metadata": {
        "id": "-P8DWfbcInAh"
      }
    },
    {
      "cell_type": "markdown",
      "source": [
        "Some of the popular languages that Data Scientists use are: Python R C++"
      ],
      "metadata": {
        "id": "JRqgGseVImsJ"
      }
    },
    {
      "cell_type": "markdown",
      "source": [
        "Some of the commonly used libraries used by Data Scientists include: Pandas Matplotlib Numpy"
      ],
      "metadata": {
        "id": "kTzyoM1gImYK"
      }
    },
    {
      "cell_type": "markdown",
      "source": [
        "Data Science Tools: Jupyter Notebook RStudio Apache Spark"
      ],
      "metadata": {
        "id": "Vv6CA3ykItmx"
      }
    },
    {
      "cell_type": "markdown",
      "source": [
        "Below are a few examples of evaluating arithmetic expressions in Python\n",
        "\n",
        "**Suma**: `5 + 3` produce `8`\n",
        "**Resta**: `10 - 4` produce `6`\n",
        "**Multiplicación**: `7 * 3` produce `21`"
      ],
      "metadata": {
        "id": "0GPwDwrPIuKx"
      }
    },
    {
      "cell_type": "code",
      "source": [
        "#This a simple arithmetic expression to mutiply then add integers\n",
        "(3*4)+5"
      ],
      "metadata": {
        "colab": {
          "base_uri": "https://localhost:8080/"
        },
        "id": "T8Pp7QEgIceB",
        "outputId": "75affebe-f1d1-40a5-a4ae-f7dcf0b456f5"
      },
      "execution_count": 1,
      "outputs": [
        {
          "output_type": "execute_result",
          "data": {
            "text/plain": [
              "17"
            ]
          },
          "metadata": {},
          "execution_count": 1
        }
      ]
    },
    {
      "cell_type": "code",
      "source": [
        " #This will convert 200 minutes to hours by diving by 60\n",
        "#A represent 200 minutes\n",
        "A=200\n",
        "#B represent 60 minutes\n",
        "B=60\n",
        "#Result\n",
        "print(f'{A} minutes are {A / B} hours')\n"
      ],
      "metadata": {
        "colab": {
          "base_uri": "https://localhost:8080/"
        },
        "id": "Sa5gQqwfI29a",
        "outputId": "3b03e0d8-a2e9-4927-c857-18546593a37c"
      },
      "execution_count": 2,
      "outputs": [
        {
          "output_type": "stream",
          "name": "stdout",
          "text": [
            "200 minutes are 3.3333333333333335 hours\n"
          ]
        }
      ]
    },
    {
      "cell_type": "markdown",
      "source": [
        "**Objectives:**\n",
        "\n",
        "- List popular languages for Data Science\n",
        "- Describe common libraries used in Data Science\n",
        "- Explain basic data structures in Python\n",
        "- Demonstrate simple data analysis techniques\n",
        "- Provide examples of data visualization tools"
      ],
      "metadata": {
        "id": "_Ur2wgLyI6XR"
      }
    },
    {
      "cell_type": "markdown",
      "source": [
        "Author\n",
        "Antonio Jesús Collilef Chanqueo"
      ],
      "metadata": {
        "id": "q9P1DA3oI8nJ"
      }
    }
  ]
}